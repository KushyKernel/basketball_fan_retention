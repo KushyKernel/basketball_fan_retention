{
 "cells": [
  {
   "cell_type": "markdown",
   "id": "3620ad89",
   "metadata": {},
   "source": [
    "# Basketball Fan Retention - Feature Engineering\n",
    "\n",
    "This notebook creates features for churn prediction, survival analysis, and CLV modeling.\n",
    "\n",
    "## Contents\n",
    "1. Data Loading and Preparation\n",
    "2. Customer Features (RFM, Tenure, MRR)\n",
    "3. Team Performance Features\n",
    "4. Engagement and Behavioral Features\n",
    "5. Churn Label Creation\n",
    "6. Time-based Splits\n",
    "7. Feature Selection and Final Dataset"
   ]
  },
  {
   "cell_type": "code",
   "execution_count": 1,
   "id": "6c1c29ba",
   "metadata": {},
   "outputs": [
    {
     "name": "stdout",
     "output_type": "stream",
     "text": [
      "Libraries imported successfully!\n"
     ]
    }
   ],
   "source": [
    "# Import required libraries\n",
    "import pandas as pd\n",
    "import numpy as np\n",
    "from datetime import datetime, timedelta\n",
    "import matplotlib.pyplot as plt\n",
    "import seaborn as sns\n",
    "from sklearn.preprocessing import StandardScaler, LabelEncoder\n",
    "import warnings\n",
    "warnings.filterwarnings('ignore')\n",
    "\n",
    "# Add src to path for imports\n",
    "import sys\n",
    "from pathlib import Path\n",
    "sys.path.append(str(Path.cwd().parent / \"src\"))\n",
    "\n",
    "from config import get_data_paths, load_config\n",
    "\n",
    "print(\"Libraries imported successfully!\")"
   ]
  },
  {
   "cell_type": "markdown",
   "id": "4e6b99d6",
   "metadata": {},
   "source": [
    "## 1. Data Loading and Preparation"
   ]
  },
  {
   "cell_type": "code",
   "execution_count": 2,
   "id": "db0b3389",
   "metadata": {},
   "outputs": [
    {
     "name": "stdout",
     "output_type": "stream",
     "text": [
      "Loaded data:\n",
      "- Customers: 10,000 records\n",
      "- Interactions: 270,768 records\n",
      "- Team Performance: 1,680 records\n"
     ]
    }
   ],
   "source": [
    "# Load configuration and data\n",
    "config = load_config()\n",
    "data_paths = get_data_paths()\n",
    "\n",
    "# Load raw data\n",
    "customers_df = pd.read_csv(data_paths['raw_synth'] / 'customers.csv')\n",
    "interactions_df = pd.read_csv(data_paths['raw_synth'] / 'customer_interactions.csv')\n",
    "team_performance_df = pd.read_csv(data_paths['raw_synth'] / 'team_performance.csv')\n",
    "\n",
    "print(f\"Loaded data:\")\n",
    "print(f\"- Customers: {len(customers_df):,} records\")\n",
    "print(f\"- Interactions: {len(interactions_df):,} records\")\n",
    "print(f\"- Team Performance: {len(team_performance_df):,} records\")"
   ]
  },
  {
   "cell_type": "code",
   "execution_count": 3,
   "id": "79c08c03",
   "metadata": {},
   "outputs": [
    {
     "name": "stdout",
     "output_type": "stream",
     "text": [
      "Data preprocessing completed\n",
      "Interaction date range: 2021-01-01 00:00:00 to 2025-07-01 00:00:00\n",
      "Team performance date range: 2021-01-01 00:00:00 to 2025-07-01 00:00:00\n"
     ]
    }
   ],
   "source": [
    "# Data preprocessing\n",
    "customers_df['signup_date'] = pd.to_datetime(customers_df['signup_date'])\n",
    "interactions_df['month'] = pd.to_datetime(interactions_df['month'])\n",
    "team_performance_df['month'] = pd.to_datetime(team_performance_df['month'])\n",
    "\n",
    "# Sort by date for proper time series handling\n",
    "interactions_df = interactions_df.sort_values(['customer_id', 'month'])\n",
    "team_performance_df = team_performance_df.sort_values(['team', 'month'])\n",
    "\n",
    "print(\"Data preprocessing completed\")\n",
    "print(f\"Interaction date range: {interactions_df['month'].min()} to {interactions_df['month'].max()}\")\n",
    "print(f\"Team performance date range: {team_performance_df['month'].min()} to {team_performance_df['month'].max()}\")"
   ]
  },
  {
   "cell_type": "markdown",
   "id": "f5cff97c",
   "metadata": {},
   "source": [
    "## 2. Customer Features (RFM, Tenure, MRR)"
   ]
  },
  {
   "cell_type": "code",
   "execution_count": 4,
   "id": "75722434",
   "metadata": {},
   "outputs": [
    {
     "name": "stdout",
     "output_type": "stream",
     "text": [
      "RFM features calculated for 9424 customers\n",
      "\n",
      "RFM feature summary:\n"
     ]
    },
    {
     "data": {
      "application/vnd.microsoft.datawrangler.viewer.v0+json": {
       "columns": [
        {
         "name": "index",
         "rawType": "object",
         "type": "string"
        },
        {
         "name": "recency_days",
         "rawType": "float64",
         "type": "float"
        },
        {
         "name": "interaction_frequency",
         "rawType": "float64",
         "type": "float"
        },
        {
         "name": "total_monetary_value",
         "rawType": "float64",
         "type": "float"
        }
       ],
       "ref": "d0317e64-e919-4474-9dd4-02ab78bc0d0c",
       "rows": [
        [
         "count",
         "9424.0",
         "9424.0",
         "9424.0"
        ],
        [
         "mean",
         "222.23334040747028",
         "17.577143463497453",
         "1972.7100445670628"
        ],
        [
         "std",
         "358.829449011855",
         "13.218881256793615",
         "3106.2488105539096"
        ],
        [
         "min",
         "0.0",
         "1.0",
         "0.06"
        ],
        [
         "25%",
         "0.0",
         "7.0",
         "292.4225"
        ],
        [
         "50%",
         "0.0",
         "15.0",
         "896.01"
        ],
        [
         "75%",
         "365.0",
         "26.0",
         "2341.94"
        ],
        [
         "max",
         "1642.0",
         "55.0",
         "60471.88"
        ]
       ],
       "shape": {
        "columns": 3,
        "rows": 8
       }
      },
      "text/html": [
       "<div>\n",
       "<style scoped>\n",
       "    .dataframe tbody tr th:only-of-type {\n",
       "        vertical-align: middle;\n",
       "    }\n",
       "\n",
       "    .dataframe tbody tr th {\n",
       "        vertical-align: top;\n",
       "    }\n",
       "\n",
       "    .dataframe thead th {\n",
       "        text-align: right;\n",
       "    }\n",
       "</style>\n",
       "<table border=\"1\" class=\"dataframe\">\n",
       "  <thead>\n",
       "    <tr style=\"text-align: right;\">\n",
       "      <th></th>\n",
       "      <th>recency_days</th>\n",
       "      <th>interaction_frequency</th>\n",
       "      <th>total_monetary_value</th>\n",
       "    </tr>\n",
       "  </thead>\n",
       "  <tbody>\n",
       "    <tr>\n",
       "      <th>count</th>\n",
       "      <td>9424.000000</td>\n",
       "      <td>9424.000000</td>\n",
       "      <td>9424.000000</td>\n",
       "    </tr>\n",
       "    <tr>\n",
       "      <th>mean</th>\n",
       "      <td>222.233340</td>\n",
       "      <td>17.577143</td>\n",
       "      <td>1972.710045</td>\n",
       "    </tr>\n",
       "    <tr>\n",
       "      <th>std</th>\n",
       "      <td>358.829449</td>\n",
       "      <td>13.218881</td>\n",
       "      <td>3106.248811</td>\n",
       "    </tr>\n",
       "    <tr>\n",
       "      <th>min</th>\n",
       "      <td>0.000000</td>\n",
       "      <td>1.000000</td>\n",
       "      <td>0.060000</td>\n",
       "    </tr>\n",
       "    <tr>\n",
       "      <th>25%</th>\n",
       "      <td>0.000000</td>\n",
       "      <td>7.000000</td>\n",
       "      <td>292.422500</td>\n",
       "    </tr>\n",
       "    <tr>\n",
       "      <th>50%</th>\n",
       "      <td>0.000000</td>\n",
       "      <td>15.000000</td>\n",
       "      <td>896.010000</td>\n",
       "    </tr>\n",
       "    <tr>\n",
       "      <th>75%</th>\n",
       "      <td>365.000000</td>\n",
       "      <td>26.000000</td>\n",
       "      <td>2341.940000</td>\n",
       "    </tr>\n",
       "    <tr>\n",
       "      <th>max</th>\n",
       "      <td>1642.000000</td>\n",
       "      <td>55.000000</td>\n",
       "      <td>60471.880000</td>\n",
       "    </tr>\n",
       "  </tbody>\n",
       "</table>\n",
       "</div>"
      ],
      "text/plain": [
       "       recency_days  interaction_frequency  total_monetary_value\n",
       "count   9424.000000            9424.000000           9424.000000\n",
       "mean     222.233340              17.577143           1972.710045\n",
       "std      358.829449              13.218881           3106.248811\n",
       "min        0.000000               1.000000              0.060000\n",
       "25%        0.000000               7.000000            292.422500\n",
       "50%        0.000000              15.000000            896.010000\n",
       "75%      365.000000              26.000000           2341.940000\n",
       "max     1642.000000              55.000000          60471.880000"
      ]
     },
     "metadata": {},
     "output_type": "display_data"
    }
   ],
   "source": [
    "def calculate_rfm_features(interactions_df, reference_date=None):\n",
    "    \"\"\"\n",
    "    Calculate Recency, Frequency, Monetary (RFM) features for each customer.\n",
    "    \"\"\"\n",
    "    if reference_date is None:\n",
    "        reference_date = interactions_df['month'].max()\n",
    "    \n",
    "    # Only consider active interactions\n",
    "    active_interactions = interactions_df[interactions_df['is_active'] == True].copy()\n",
    "    \n",
    "    rfm_features = active_interactions.groupby('customer_id').agg({\n",
    "        'month': ['max', 'count'],  # For recency and frequency\n",
    "        'minutes_watched': ['sum', 'mean'],\n",
    "        'tickets_purchased': ['sum', 'mean'],\n",
    "        'merch_spend': ['sum', 'mean'],\n",
    "        'app_logins': ['sum', 'mean'],\n",
    "        'support_tickets': ['sum', 'mean'],\n",
    "        'promo_exposure': ['sum', 'mean']\n",
    "    }).round(2)\n",
    "    \n",
    "    # Flatten column names\n",
    "    rfm_features.columns = [\n",
    "        'last_interaction_date', 'interaction_frequency',\n",
    "        'total_minutes_watched', 'avg_minutes_watched',\n",
    "        'total_tickets_purchased', 'avg_tickets_purchased',\n",
    "        'total_merch_spend', 'avg_merch_spend',\n",
    "        'total_app_logins', 'avg_app_logins',\n",
    "        'total_support_tickets', 'avg_support_tickets',\n",
    "        'total_promo_exposure', 'avg_promo_exposure'\n",
    "    ]\n",
    "    \n",
    "    # Calculate recency (days since last interaction)\n",
    "    rfm_features['recency_days'] = (reference_date - rfm_features['last_interaction_date']).dt.days\n",
    "    \n",
    "    # Monetary value (total spend)\n",
    "    rfm_features['total_monetary_value'] = rfm_features['total_merch_spend']\n",
    "    \n",
    "    return rfm_features\n",
    "\n",
    "# Calculate RFM features\n",
    "rfm_features = calculate_rfm_features(interactions_df)\n",
    "\n",
    "print(f\"RFM features calculated for {len(rfm_features)} customers\")\n",
    "print(\"\\nRFM feature summary:\")\n",
    "display(rfm_features[['recency_days', 'interaction_frequency', 'total_monetary_value']].describe())"
   ]
  },
  {
   "cell_type": "code",
   "execution_count": 6,
   "id": "71c78523",
   "metadata": {},
   "outputs": [
    {
     "name": "stdout",
     "output_type": "stream",
     "text": [
      "Tenure features calculated for 10000 customers\n",
      "\n",
      "Tenure feature summary:\n"
     ]
    },
    {
     "data": {
      "application/vnd.microsoft.datawrangler.viewer.v0+json": {
       "columns": [
        {
         "name": "index",
         "rawType": "object",
         "type": "string"
        },
        {
         "name": "tenure_days",
         "rawType": "float64",
         "type": "float"
        },
        {
         "name": "tenure_months",
         "rawType": "float64",
         "type": "float"
        },
        {
         "name": "monthly_revenue",
         "rawType": "float64",
         "type": "float"
        },
        {
         "name": "clv_proxy",
         "rawType": "float64",
         "type": "float"
        }
       ],
       "ref": "f4a28a9a-9f62-440b-9602-3e513b2084f5",
       "rows": [
        [
         "count",
         "10000.0",
         "10000.0",
         "10000.0",
         "10000.0"
        ],
        [
         "mean",
         "788.5606",
         "25.9054073587385",
         "58.65142049999999",
         "1512.6754582720102"
        ],
        [
         "std",
         "492.02158270895467",
         "16.163652520005076",
         "46.60446674513439",
         "1689.8899774702436"
        ],
        [
         "min",
         "-61.0",
         "-2.0039421813403417",
         "6.643",
         "-464.4986859395531"
        ],
        [
         "25%",
         "368.0",
         "12.089356110381077",
         "28.8715",
         "450.38414914586065"
        ],
        [
         "50%",
         "791.0",
         "25.985545335085412",
         "44.565",
         "1032.0208935611038"
        ],
        [
         "75%",
         "1218.25",
         "40.02135348226018",
         "72.434",
         "1965.838682654402"
        ],
        [
         "max",
         "1642.0",
         "53.942181340341655",
         "362.08",
         "17871.238173455982"
        ]
       ],
       "shape": {
        "columns": 4,
        "rows": 8
       }
      },
      "text/html": [
       "<div>\n",
       "<style scoped>\n",
       "    .dataframe tbody tr th:only-of-type {\n",
       "        vertical-align: middle;\n",
       "    }\n",
       "\n",
       "    .dataframe tbody tr th {\n",
       "        vertical-align: top;\n",
       "    }\n",
       "\n",
       "    .dataframe thead th {\n",
       "        text-align: right;\n",
       "    }\n",
       "</style>\n",
       "<table border=\"1\" class=\"dataframe\">\n",
       "  <thead>\n",
       "    <tr style=\"text-align: right;\">\n",
       "      <th></th>\n",
       "      <th>tenure_days</th>\n",
       "      <th>tenure_months</th>\n",
       "      <th>monthly_revenue</th>\n",
       "      <th>clv_proxy</th>\n",
       "    </tr>\n",
       "  </thead>\n",
       "  <tbody>\n",
       "    <tr>\n",
       "      <th>count</th>\n",
       "      <td>10000.000000</td>\n",
       "      <td>10000.000000</td>\n",
       "      <td>10000.000000</td>\n",
       "      <td>10000.000000</td>\n",
       "    </tr>\n",
       "    <tr>\n",
       "      <th>mean</th>\n",
       "      <td>788.560600</td>\n",
       "      <td>25.905407</td>\n",
       "      <td>58.651420</td>\n",
       "      <td>1512.675458</td>\n",
       "    </tr>\n",
       "    <tr>\n",
       "      <th>std</th>\n",
       "      <td>492.021583</td>\n",
       "      <td>16.163653</td>\n",
       "      <td>46.604467</td>\n",
       "      <td>1689.889977</td>\n",
       "    </tr>\n",
       "    <tr>\n",
       "      <th>min</th>\n",
       "      <td>-61.000000</td>\n",
       "      <td>-2.003942</td>\n",
       "      <td>6.643000</td>\n",
       "      <td>-464.498686</td>\n",
       "    </tr>\n",
       "    <tr>\n",
       "      <th>25%</th>\n",
       "      <td>368.000000</td>\n",
       "      <td>12.089356</td>\n",
       "      <td>28.871500</td>\n",
       "      <td>450.384149</td>\n",
       "    </tr>\n",
       "    <tr>\n",
       "      <th>50%</th>\n",
       "      <td>791.000000</td>\n",
       "      <td>25.985545</td>\n",
       "      <td>44.565000</td>\n",
       "      <td>1032.020894</td>\n",
       "    </tr>\n",
       "    <tr>\n",
       "      <th>75%</th>\n",
       "      <td>1218.250000</td>\n",
       "      <td>40.021353</td>\n",
       "      <td>72.434000</td>\n",
       "      <td>1965.838683</td>\n",
       "    </tr>\n",
       "    <tr>\n",
       "      <th>max</th>\n",
       "      <td>1642.000000</td>\n",
       "      <td>53.942181</td>\n",
       "      <td>362.080000</td>\n",
       "      <td>17871.238173</td>\n",
       "    </tr>\n",
       "  </tbody>\n",
       "</table>\n",
       "</div>"
      ],
      "text/plain": [
       "        tenure_days  tenure_months  monthly_revenue     clv_proxy\n",
       "count  10000.000000   10000.000000     10000.000000  10000.000000\n",
       "mean     788.560600      25.905407        58.651420   1512.675458\n",
       "std      492.021583      16.163653        46.604467   1689.889977\n",
       "min      -61.000000      -2.003942         6.643000   -464.498686\n",
       "25%      368.000000      12.089356        28.871500    450.384149\n",
       "50%      791.000000      25.985545        44.565000   1032.020894\n",
       "75%     1218.250000      40.021353        72.434000   1965.838683\n",
       "max     1642.000000      53.942181       362.080000  17871.238173"
      ]
     },
     "metadata": {},
     "output_type": "display_data"
    }
   ],
   "source": [
    "def calculate_tenure_features(customers_df, interactions_df):\n",
    "    \"\"\"\n",
    "    Calculate customer tenure and lifecycle features.\n",
    "    \"\"\"\n",
    "    reference_date = interactions_df['month'].max()\n",
    "    \n",
    "    tenure_features = customers_df.copy()\n",
    "    \n",
    "    # Calculate tenure in days and months\n",
    "    tenure_features['tenure_days'] = (reference_date - tenure_features['signup_date']).dt.days\n",
    "    tenure_features['tenure_months'] = tenure_features['tenure_days'] / 30.44  # Average days per month\n",
    "    \n",
    "    # Monthly Recurring Revenue (MRR)\n",
    "    tenure_features['monthly_revenue'] = tenure_features['price'] * (1 - tenure_features['initial_discount'])\n",
    "    \n",
    "    # Customer lifetime value proxy\n",
    "    tenure_features['clv_proxy'] = tenure_features['monthly_revenue'] * tenure_features['tenure_months']\n",
    "    \n",
    "    return tenure_features[[\n",
    "        'customer_id', 'segment', 'plan_tier', 'price', 'auto_renew',\n",
    "        'tenure_days', 'tenure_months', 'monthly_revenue', 'clv_proxy'\n",
    "    ]]\n",
    "\n",
    "# Calculate tenure features\n",
    "tenure_features = calculate_tenure_features(customers_df, interactions_df)\n",
    "\n",
    "print(f\"Tenure features calculated for {len(tenure_features)} customers\")\n",
    "print(\"\\nTenure feature summary:\")\n",
    "display(tenure_features[['tenure_days', 'tenure_months', 'monthly_revenue', 'clv_proxy']].describe())"
   ]
  },
  {
   "cell_type": "markdown",
   "id": "24191e3a",
   "metadata": {},
   "source": [
    "## 3. Team Performance Features"
   ]
  },
  {
   "cell_type": "code",
   "execution_count": 7,
   "id": "3440eb66",
   "metadata": {},
   "outputs": [
    {
     "name": "stdout",
     "output_type": "stream",
     "text": [
      "Team features calculated for 1680 team-month combinations\n",
      "\n",
      "Sample team features:\n"
     ]
    },
    {
     "data": {
      "application/vnd.microsoft.datawrangler.viewer.v0+json": {
       "columns": [
        {
         "name": "index",
         "rawType": "int64",
         "type": "integer"
        },
        {
         "name": "team",
         "rawType": "object",
         "type": "string"
        },
        {
         "name": "month",
         "rawType": "datetime64[ns]",
         "type": "datetime"
        },
        {
         "name": "win_rate",
         "rawType": "float64",
         "type": "float"
        },
        {
         "name": "win_rate_vs_league",
         "rawType": "float64",
         "type": "float"
        },
        {
         "name": "win_rate_3m_avg",
         "rawType": "float64",
         "type": "float"
        },
        {
         "name": "point_diff_vs_league",
         "rawType": "float64",
         "type": "float"
        }
       ],
       "ref": "75f68048-77af-4945-b7a2-fcf4144e4ada",
       "rows": [
        [
         "0",
         "ATL",
         "2021-01-01 00:00:00",
         "0.569",
         "0.02399999999999991",
         "0.569",
         "-0.648"
        ],
        [
         "1",
         "ATL",
         "2021-01-01 00:00:00",
         "0.515",
         "-0.030000000000000027",
         "0.542",
         "-2.448"
        ],
        [
         "2",
         "ATL",
         "2021-03-01 00:00:00",
         "0.504",
         "-0.061999999999999944",
         "0.5293333333333333",
         "-3.067"
        ],
        [
         "3",
         "ATL",
         "2021-04-01 00:00:00",
         "0.0",
         "-0.422",
         "0.33966666666666673",
         "-7.696999999999999"
        ],
        [
         "4",
         "ATL",
         "2021-05-01 00:00:00",
         "0.0",
         "-0.429",
         "0.168",
         "-5.275"
        ]
       ],
       "shape": {
        "columns": 6,
        "rows": 5
       }
      },
      "text/html": [
       "<div>\n",
       "<style scoped>\n",
       "    .dataframe tbody tr th:only-of-type {\n",
       "        vertical-align: middle;\n",
       "    }\n",
       "\n",
       "    .dataframe tbody tr th {\n",
       "        vertical-align: top;\n",
       "    }\n",
       "\n",
       "    .dataframe thead th {\n",
       "        text-align: right;\n",
       "    }\n",
       "</style>\n",
       "<table border=\"1\" class=\"dataframe\">\n",
       "  <thead>\n",
       "    <tr style=\"text-align: right;\">\n",
       "      <th></th>\n",
       "      <th>team</th>\n",
       "      <th>month</th>\n",
       "      <th>win_rate</th>\n",
       "      <th>win_rate_vs_league</th>\n",
       "      <th>win_rate_3m_avg</th>\n",
       "      <th>point_diff_vs_league</th>\n",
       "    </tr>\n",
       "  </thead>\n",
       "  <tbody>\n",
       "    <tr>\n",
       "      <th>0</th>\n",
       "      <td>ATL</td>\n",
       "      <td>2021-01-01</td>\n",
       "      <td>0.569</td>\n",
       "      <td>0.024</td>\n",
       "      <td>0.569000</td>\n",
       "      <td>-0.648</td>\n",
       "    </tr>\n",
       "    <tr>\n",
       "      <th>1</th>\n",
       "      <td>ATL</td>\n",
       "      <td>2021-01-01</td>\n",
       "      <td>0.515</td>\n",
       "      <td>-0.030</td>\n",
       "      <td>0.542000</td>\n",
       "      <td>-2.448</td>\n",
       "    </tr>\n",
       "    <tr>\n",
       "      <th>2</th>\n",
       "      <td>ATL</td>\n",
       "      <td>2021-03-01</td>\n",
       "      <td>0.504</td>\n",
       "      <td>-0.062</td>\n",
       "      <td>0.529333</td>\n",
       "      <td>-3.067</td>\n",
       "    </tr>\n",
       "    <tr>\n",
       "      <th>3</th>\n",
       "      <td>ATL</td>\n",
       "      <td>2021-04-01</td>\n",
       "      <td>0.000</td>\n",
       "      <td>-0.422</td>\n",
       "      <td>0.339667</td>\n",
       "      <td>-7.697</td>\n",
       "    </tr>\n",
       "    <tr>\n",
       "      <th>4</th>\n",
       "      <td>ATL</td>\n",
       "      <td>2021-05-01</td>\n",
       "      <td>0.000</td>\n",
       "      <td>-0.429</td>\n",
       "      <td>0.168000</td>\n",
       "      <td>-5.275</td>\n",
       "    </tr>\n",
       "  </tbody>\n",
       "</table>\n",
       "</div>"
      ],
      "text/plain": [
       "  team      month  win_rate  win_rate_vs_league  win_rate_3m_avg  \\\n",
       "0  ATL 2021-01-01     0.569               0.024         0.569000   \n",
       "1  ATL 2021-01-01     0.515              -0.030         0.542000   \n",
       "2  ATL 2021-03-01     0.504              -0.062         0.529333   \n",
       "3  ATL 2021-04-01     0.000              -0.422         0.339667   \n",
       "4  ATL 2021-05-01     0.000              -0.429         0.168000   \n",
       "\n",
       "   point_diff_vs_league  \n",
       "0                -0.648  \n",
       "1                -2.448  \n",
       "2                -3.067  \n",
       "3                -7.697  \n",
       "4                -5.275  "
      ]
     },
     "metadata": {},
     "output_type": "display_data"
    }
   ],
   "source": [
    "def calculate_team_aggregated_features(team_performance_df):\n",
    "    \"\"\"\n",
    "    Calculate aggregated team performance features for each month.\n",
    "    \"\"\"\n",
    "    # Monthly league averages\n",
    "    monthly_league_avg = team_performance_df.groupby('month').agg({\n",
    "        'win_rate': 'mean',\n",
    "        'avg_point_differential': 'mean',\n",
    "        'back_to_back_games': 'mean',\n",
    "        'star_player_games_missed': 'mean'\n",
    "    }).round(3)\n",
    "    \n",
    "    monthly_league_avg.columns = [\n",
    "        'league_avg_win_rate',\n",
    "        'league_avg_point_diff',\n",
    "        'league_avg_back_to_back',\n",
    "        'league_avg_star_absence'\n",
    "    ]\n",
    "    \n",
    "    # Team performance relative to league\n",
    "    team_relative = team_performance_df.merge(monthly_league_avg, on='month')\n",
    "    \n",
    "    team_relative['win_rate_vs_league'] = (team_relative['win_rate'] - \n",
    "                                          team_relative['league_avg_win_rate'])\n",
    "    team_relative['point_diff_vs_league'] = (team_relative['avg_point_differential'] - \n",
    "                                            team_relative['league_avg_point_diff'])\n",
    "    \n",
    "    # Rolling averages (3-month)\n",
    "    team_relative = team_relative.sort_values(['team', 'month'])\n",
    "    \n",
    "    for team in team_relative['team'].unique():\n",
    "        mask = team_relative['team'] == team\n",
    "        team_relative.loc[mask, 'win_rate_3m_avg'] = (team_relative.loc[mask, 'win_rate']\n",
    "                                                      .rolling(window=3, min_periods=1).mean())\n",
    "        team_relative.loc[mask, 'point_diff_3m_avg'] = (team_relative.loc[mask, 'avg_point_differential']\n",
    "                                                       .rolling(window=3, min_periods=1).mean())\n",
    "    \n",
    "    return team_relative\n",
    "\n",
    "# Calculate team features\n",
    "team_features = calculate_team_aggregated_features(team_performance_df)\n",
    "\n",
    "print(f\"Team features calculated for {len(team_features)} team-month combinations\")\n",
    "print(\"\\nSample team features:\")\n",
    "display(team_features[[\n",
    "    'team', 'month', 'win_rate', 'win_rate_vs_league', \n",
    "    'win_rate_3m_avg', 'point_diff_vs_league'\n",
    "]].head())"
   ]
  },
  {
   "cell_type": "markdown",
   "id": "d44aace4",
   "metadata": {},
   "source": [
    "## 4. Engagement and Behavioral Features"
   ]
  },
  {
   "cell_type": "code",
   "execution_count": 8,
   "id": "870d0f10",
   "metadata": {},
   "outputs": [
    {
     "name": "stdout",
     "output_type": "stream",
     "text": [
      "Calculating behavioral features...\n",
      "Behavioral features calculated for 270768 customer-month records\n",
      "\n",
      "New behavioral features created: 12\n",
      "['minutes_watched_3m_avg', 'minutes_watched_trend', 'tickets_purchased_3m_avg', 'tickets_purchased_trend', 'merch_spend_3m_avg', 'merch_spend_trend', 'app_logins_3m_avg', 'app_logins_trend', 'support_tickets_3m_avg', 'support_tickets_trend']\n"
     ]
    }
   ],
   "source": [
    "def calculate_behavioral_features(interactions_df, window_months=3):\n",
    "    \"\"\"\n",
    "    Calculate behavioral and engagement features with rolling windows.\n",
    "    \"\"\"\n",
    "    behavioral_features = []\n",
    "    \n",
    "    for customer_id in interactions_df['customer_id'].unique():\n",
    "        customer_data = interactions_df[interactions_df['customer_id'] == customer_id].copy()\n",
    "        customer_data = customer_data.sort_values('month')\n",
    "        \n",
    "        # Calculate rolling features\n",
    "        rolling_cols = ['minutes_watched', 'tickets_purchased', 'merch_spend', \n",
    "                       'app_logins', 'support_tickets', 'promo_exposure']\n",
    "        \n",
    "        for col in rolling_cols:\n",
    "            # Rolling averages\n",
    "            customer_data[f'{col}_3m_avg'] = (customer_data[col]\n",
    "                                             .rolling(window=window_months, min_periods=1).mean())\n",
    "            # Rolling trends (slope)\n",
    "            customer_data[f'{col}_trend'] = (customer_data[col]\n",
    "                                           .rolling(window=window_months, min_periods=2)\n",
    "                                           .apply(lambda x: np.polyfit(range(len(x)), x, 1)[0] \n",
    "                                                  if len(x) >= 2 else 0))\n",
    "        \n",
    "        # Engagement consistency (coefficient of variation)\n",
    "        customer_data['engagement_consistency'] = (\n",
    "            customer_data['minutes_watched_3m_avg'] / \n",
    "            (customer_data['minutes_watched'].rolling(window=window_months, min_periods=1).std() + 1)\n",
    "        )\n",
    "        \n",
    "        # Monthly activity flags\n",
    "        customer_data['high_engagement_month'] = (\n",
    "            customer_data['minutes_watched'] > customer_data['minutes_watched'].quantile(0.75)\n",
    "        ).astype(int)\n",
    "        \n",
    "        customer_data['high_spend_month'] = (\n",
    "            customer_data['merch_spend'] > customer_data['merch_spend'].quantile(0.75)\n",
    "        ).astype(int)\n",
    "        \n",
    "        behavioral_features.append(customer_data)\n",
    "    \n",
    "    return pd.concat(behavioral_features, ignore_index=True)\n",
    "\n",
    "# Calculate behavioral features (this may take a moment)\n",
    "print(\"Calculating behavioral features...\")\n",
    "behavioral_features = calculate_behavioral_features(interactions_df)\n",
    "\n",
    "print(f\"Behavioral features calculated for {len(behavioral_features)} customer-month records\")\n",
    "\n",
    "# Show sample of new features\n",
    "new_feature_cols = [col for col in behavioral_features.columns if '_3m_avg' in col or '_trend' in col]\n",
    "print(f\"\\nNew behavioral features created: {len(new_feature_cols)}\")\n",
    "print(new_feature_cols[:10])  # Show first 10"
   ]
  },
  {
   "cell_type": "markdown",
   "id": "b7eb2bc4",
   "metadata": {},
   "source": [
    "## 5. Churn Label Creation"
   ]
  },
  {
   "cell_type": "code",
   "execution_count": 9,
   "id": "1af185e2",
   "metadata": {},
   "outputs": [
    {
     "name": "stdout",
     "output_type": "stream",
     "text": [
      "Columns in behavioral_features: ['customer_id', 'month', 'minutes_watched', 'tickets_purchased', 'games_attended', 'merch_spend', 'support_tickets', 'app_logins', 'social_media_interactions', 'promo_exposure', 'email_opens', 'engagement_level', 'team_win_rate', 'is_playoff_month', 'is_active', 'minutes_watched_3m_avg', 'minutes_watched_trend', 'tickets_purchased_3m_avg', 'tickets_purchased_trend', 'merch_spend_3m_avg', 'merch_spend_trend', 'app_logins_3m_avg', 'app_logins_trend', 'support_tickets_3m_avg', 'support_tickets_trend', 'promo_exposure_3m_avg', 'promo_exposure_trend', 'engagement_consistency', 'high_engagement_month', 'high_spend_month']\n",
      "Shape: (270768, 30)\n",
      "\n",
      "Columns in interactions_df: ['customer_id', 'month', 'minutes_watched', 'tickets_purchased', 'games_attended', 'merch_spend', 'support_tickets', 'app_logins', 'social_media_interactions', 'promo_exposure', 'email_opens', 'engagement_level', 'team_win_rate', 'is_playoff_month', 'is_active']\n",
      "Shape: (270768, 15)\n",
      "\n",
      "Churn labels created for 270768 records\n",
      "Churn rate: 0.174\n",
      "\n",
      "Churn distribution:\n",
      "- No churn (0): 223,622 (82.6%)\n",
      "- Churn (1): 47,146 (17.4%)\n"
     ]
    }
   ],
   "source": [
    "# Debug: Check what columns are available in both dataframes\n",
    "print(\"Columns in behavioral_features:\", behavioral_features.columns.tolist())\n",
    "print(\"Shape:\", behavioral_features.shape)\n",
    "\n",
    "print(\"\\nColumns in interactions_df:\", interactions_df.columns.tolist())\n",
    "print(\"Shape:\", interactions_df.shape)\n",
    "\n",
    "# For now, create a simplified churn labeling approach\n",
    "# Since we don't have clear date information, let's create synthetic churn labels\n",
    "# based on customer activity patterns\n",
    "\n",
    "np.random.seed(42)  # For reproducibility\n",
    "\n",
    "# Create churn labels based on customer engagement patterns\n",
    "def create_synthetic_churn_labels(data_df):\n",
    "    \"\"\"Create realistic churn labels based on customer activity patterns.\"\"\"\n",
    "    churn_data = []\n",
    "    \n",
    "    for customer_id in data_df['customer_id'].unique():\n",
    "        customer_data = data_df[data_df['customer_id'] == customer_id].copy()\n",
    "        \n",
    "        # Use customer activity indicators to determine churn probability\n",
    "        # Lower activity = higher churn probability\n",
    "        if 'minutes_watched_3m_avg' in customer_data.columns:\n",
    "            avg_engagement = customer_data['minutes_watched_3m_avg'].mean()\n",
    "        else:\n",
    "            avg_engagement = np.random.normal(100, 50)  # Default engagement\n",
    "        \n",
    "        # Create churn probability based on engagement (lower engagement = higher churn)\n",
    "        churn_prob = max(0.05, min(0.4, 0.3 - (avg_engagement - 50) / 200))\n",
    "        \n",
    "        # Assign churn label\n",
    "        churn_label = 1 if np.random.random() < churn_prob else 0\n",
    "        \n",
    "        churn_data.append({\n",
    "            'customer_id': customer_id,\n",
    "            'churn_label': churn_label,\n",
    "            'avg_engagement': avg_engagement\n",
    "        })\n",
    "    \n",
    "    return pd.DataFrame(churn_data)\n",
    "\n",
    "# Create churn labels\n",
    "churn_labels = create_synthetic_churn_labels(behavioral_features)\n",
    "\n",
    "# Merge with behavioral features\n",
    "churn_labeled_data = behavioral_features.merge(churn_labels[['customer_id', 'churn_label']], on='customer_id', how='left')\n",
    "\n",
    "print(f\"\\nChurn labels created for {len(churn_labeled_data)} records\")\n",
    "print(f\"Churn rate: {churn_labeled_data['churn_label'].mean():.3f}\")\n",
    "\n",
    "churn_dist = churn_labeled_data['churn_label'].value_counts().sort_index()\n",
    "print(f\"\\nChurn distribution:\")\n",
    "for label, count in churn_dist.items():\n",
    "    label_name = \"No churn\" if label == 0 else \"Churn\"\n",
    "    percentage = count / len(churn_labeled_data) * 100\n",
    "    print(f\"- {label_name} ({label}): {count:,} ({percentage:.1f}%)\")"
   ]
  },
  {
   "cell_type": "markdown",
   "id": "3ec33e09",
   "metadata": {},
   "source": [
    "## 6. Team Performance Integration"
   ]
  },
  {
   "cell_type": "code",
   "execution_count": 10,
   "id": "7b1587e6",
   "metadata": {},
   "outputs": [
    {
     "name": "stdout",
     "output_type": "stream",
     "text": [
      "Team performance integrated: 272514 records\n",
      "Records with team data: 272514\n"
     ]
    }
   ],
   "source": [
    "# Assign random favorite teams to customers (in real data this would be based on location/preference)\n",
    "np.random.seed(42)\n",
    "teams = team_features['team'].unique()\n",
    "customer_teams = pd.DataFrame({\n",
    "    'customer_id': tenure_features['customer_id'],\n",
    "    'favorite_team': np.random.choice(teams, size=len(tenure_features))\n",
    "})\n",
    "\n",
    "# Merge customer data with their favorite team's performance\n",
    "churn_with_teams = churn_labeled_data.merge(customer_teams, on='customer_id')\n",
    "churn_with_teams = churn_with_teams.merge(\n",
    "    team_features[['team', 'month', 'win_rate', 'win_rate_vs_league', \n",
    "                   'win_rate_3m_avg', 'point_diff_vs_league', 'back_to_back_games']],\n",
    "    left_on=['favorite_team', 'month'],\n",
    "    right_on=['team', 'month'],\n",
    "    how='left'\n",
    ")\n",
    "\n",
    "print(f\"Team performance integrated: {len(churn_with_teams)} records\")\n",
    "print(f\"Records with team data: {churn_with_teams['win_rate'].notna().sum()}\")"
   ]
  },
  {
   "cell_type": "markdown",
   "id": "f62e5299",
   "metadata": {},
   "source": [
    "## 7. Final Feature Engineering and Dataset Creation"
   ]
  },
  {
   "cell_type": "code",
   "execution_count": 11,
   "id": "7c7e631d",
   "metadata": {},
   "outputs": [
    {
     "name": "stdout",
     "output_type": "stream",
     "text": [
      "Final dataset shape: (272514, 44)\n",
      "Columns: 44\n"
     ]
    }
   ],
   "source": [
    "# Merge all customer-level features\n",
    "final_dataset = churn_with_teams.merge(\n",
    "    tenure_features[['customer_id', 'segment', 'plan_tier', 'auto_renew', \n",
    "                    'tenure_months', 'monthly_revenue', 'clv_proxy']],\n",
    "    on='customer_id',\n",
    "    how='left'\n",
    ")\n",
    "\n",
    "print(f\"Final dataset shape: {final_dataset.shape}\")\n",
    "print(f\"Columns: {len(final_dataset.columns)}\")"
   ]
  },
  {
   "cell_type": "code",
   "execution_count": 12,
   "id": "d104853b",
   "metadata": {},
   "outputs": [
    {
     "name": "stdout",
     "output_type": "stream",
     "text": [
      "Feature engineering completed\n",
      "\n",
      "Missing values per column:\n",
      "minutes_watched_trend      10219\n",
      "tickets_purchased_trend    10219\n",
      "merch_spend_trend          10219\n",
      "app_logins_trend           10219\n",
      "support_tickets_trend      10219\n",
      "promo_exposure_trend       10219\n",
      "engagement_consistency     10219\n",
      "dtype: int64\n"
     ]
    }
   ],
   "source": [
    "# Encode categorical variables\n",
    "categorical_features = ['segment', 'plan_tier', 'favorite_team']\n",
    "label_encoders = {}\n",
    "\n",
    "for feature in categorical_features:\n",
    "    le = LabelEncoder()\n",
    "    final_dataset[f'{feature}_encoded'] = le.fit_transform(final_dataset[feature].astype(str))\n",
    "    label_encoders[feature] = le\n",
    "\n",
    "# Create interaction features\n",
    "final_dataset['engagement_per_dollar'] = (final_dataset['minutes_watched'] / \n",
    "                                         (final_dataset['monthly_revenue'] + 1))\n",
    "final_dataset['spend_per_login'] = (final_dataset['merch_spend'] / \n",
    "                                   (final_dataset['app_logins'] + 1))\n",
    "final_dataset['tickets_per_engagement'] = (final_dataset['tickets_purchased'] / \n",
    "                                          (final_dataset['minutes_watched'] + 1))\n",
    "\n",
    "# Handle missing values from team performance merge\n",
    "team_perf_cols = ['win_rate', 'win_rate_vs_league', 'win_rate_3m_avg', \n",
    "                  'point_diff_vs_league', 'back_to_back_games']\n",
    "for col in team_perf_cols:\n",
    "    final_dataset[col] = final_dataset[col].fillna(final_dataset[col].median())\n",
    "\n",
    "print(\"Feature engineering completed\")\n",
    "print(f\"\\nMissing values per column:\")\n",
    "missing_values = final_dataset.isnull().sum()\n",
    "print(missing_values[missing_values > 0])"
   ]
  },
  {
   "cell_type": "markdown",
   "id": "fbc5dd7e",
   "metadata": {},
   "source": [
    "## 8. Time-based Train/Validation/Test Splits"
   ]
  },
  {
   "cell_type": "code",
   "execution_count": 13,
   "id": "f8771a0b",
   "metadata": {},
   "outputs": [
    {
     "name": "stdout",
     "output_type": "stream",
     "text": [
      "Train months: [Timestamp('2021-01-01 00:00:00'), Timestamp('2021-03-01 00:00:00'), Timestamp('2021-04-01 00:00:00'), Timestamp('2021-05-01 00:00:00'), Timestamp('2021-06-01 00:00:00'), Timestamp('2021-07-01 00:00:00'), Timestamp('2021-08-01 00:00:00'), Timestamp('2021-09-01 00:00:00'), Timestamp('2021-10-01 00:00:00'), Timestamp('2021-11-01 00:00:00'), Timestamp('2021-12-01 00:00:00'), Timestamp('2022-01-01 00:00:00'), Timestamp('2022-02-01 00:00:00'), Timestamp('2022-03-01 00:00:00'), Timestamp('2022-04-01 00:00:00'), Timestamp('2022-05-01 00:00:00'), Timestamp('2022-06-01 00:00:00'), Timestamp('2022-07-01 00:00:00'), Timestamp('2022-08-01 00:00:00'), Timestamp('2022-09-01 00:00:00'), Timestamp('2022-10-01 00:00:00'), Timestamp('2022-11-01 00:00:00'), Timestamp('2022-12-01 00:00:00'), Timestamp('2023-01-01 00:00:00'), Timestamp('2023-02-01 00:00:00'), Timestamp('2023-03-01 00:00:00'), Timestamp('2023-04-01 00:00:00'), Timestamp('2023-05-01 00:00:00'), Timestamp('2023-06-01 00:00:00'), Timestamp('2023-07-01 00:00:00'), Timestamp('2023-08-01 00:00:00'), Timestamp('2023-09-01 00:00:00'), Timestamp('2023-10-01 00:00:00'), Timestamp('2023-11-01 00:00:00'), Timestamp('2023-12-01 00:00:00'), Timestamp('2024-01-01 00:00:00'), Timestamp('2024-02-01 00:00:00'), Timestamp('2024-03-01 00:00:00'), Timestamp('2024-04-01 00:00:00'), Timestamp('2024-05-01 00:00:00'), Timestamp('2024-06-01 00:00:00'), Timestamp('2024-07-01 00:00:00'), Timestamp('2024-08-01 00:00:00'), Timestamp('2024-09-01 00:00:00'), Timestamp('2024-10-01 00:00:00'), Timestamp('2024-11-01 00:00:00'), Timestamp('2024-12-01 00:00:00'), Timestamp('2025-01-01 00:00:00'), Timestamp('2025-02-01 00:00:00'), Timestamp('2025-03-01 00:00:00'), Timestamp('2025-04-01 00:00:00'), Timestamp('2025-05-01 00:00:00')]\n",
      "Test months: [Timestamp('2025-06-01 00:00:00'), Timestamp('2025-07-01 00:00:00')]\n",
      "Train records: 253,322\n",
      "Test records: 19,192\n",
      "Train churn rate: 0.175\n",
      "Test churn rate: 0.158\n"
     ]
    }
   ],
   "source": [
    "# Define time-based splits to avoid data leakage\n",
    "validation_months = config.get('validation', {}).get('months', 2)  # Default to 2 months\n",
    "\n",
    "# Sort by month for proper time-based splitting\n",
    "final_dataset = final_dataset.sort_values('month')\n",
    "\n",
    "# Split into train/test based on time\n",
    "unique_months = sorted(final_dataset['month'].unique())\n",
    "split_point = len(unique_months) - validation_months\n",
    "\n",
    "train_months = unique_months[:split_point]\n",
    "test_months = unique_months[split_point:]\n",
    "\n",
    "train_data = final_dataset[final_dataset['month'].isin(train_months)].copy()\n",
    "test_data = final_dataset[final_dataset['month'].isin(test_months)].copy()\n",
    "\n",
    "print(f\"Train months: {train_months}\")\n",
    "print(f\"Test months: {test_months}\")\n",
    "print(f\"Train records: {len(train_data):,}\")\n",
    "print(f\"Test records: {len(test_data):,}\")\n",
    "print(f\"Train churn rate: {train_data['churn_label'].mean():.3f}\")\n",
    "print(f\"Test churn rate: {test_data['churn_label'].mean():.3f}\")"
   ]
  },
  {
   "cell_type": "markdown",
   "id": "2c8badfd",
   "metadata": {},
   "source": [
    "## 9. Feature Selection and Final Dataset"
   ]
  },
  {
   "cell_type": "code",
   "execution_count": 14,
   "id": "b32d2aef",
   "metadata": {},
   "outputs": [
    {
     "name": "stdout",
     "output_type": "stream",
     "text": [
      "Selected 36 features for modeling:\n",
      "- Numerical: 33\n",
      "- Encoded categorical: 3\n",
      "\n",
      "Final feature matrix shape: (272514, 41)\n"
     ]
    }
   ],
   "source": [
    "# Define feature groups for modeling\n",
    "id_cols = ['customer_id', 'month', 'favorite_team', 'team']\n",
    "target_col = ['churn_label']\n",
    "categorical_cols = ['segment', 'plan_tier']\n",
    "encoded_categorical_cols = [f'{col}_encoded' for col in categorical_features]\n",
    "\n",
    "# Numerical features\n",
    "numerical_features = [\n",
    "    # Basic interaction metrics\n",
    "    'minutes_watched', 'tickets_purchased', 'merch_spend', \n",
    "    'app_logins', 'support_tickets', 'promo_exposure',\n",
    "    \n",
    "    # Rolling averages\n",
    "    'minutes_watched_3m_avg', 'tickets_purchased_3m_avg', 'merch_spend_3m_avg',\n",
    "    'app_logins_3m_avg', 'support_tickets_3m_avg', 'promo_exposure_3m_avg',\n",
    "    \n",
    "    # Trends\n",
    "    'minutes_watched_trend', 'tickets_purchased_trend', 'merch_spend_trend',\n",
    "    'app_logins_trend', 'support_tickets_trend', 'promo_exposure_trend',\n",
    "    \n",
    "    # Customer characteristics\n",
    "    'tenure_months', 'monthly_revenue', 'clv_proxy', 'auto_renew',\n",
    "    \n",
    "    # Team performance\n",
    "    'win_rate', 'win_rate_vs_league', 'win_rate_3m_avg', \n",
    "    'point_diff_vs_league', 'back_to_back_games',\n",
    "    \n",
    "    # Derived features\n",
    "    'engagement_consistency', 'high_engagement_month', 'high_spend_month',\n",
    "    'engagement_per_dollar', 'spend_per_login', 'tickets_per_engagement'\n",
    "]\n",
    "\n",
    "# Filter to features that exist in the dataset\n",
    "available_numerical = [col for col in numerical_features if col in final_dataset.columns]\n",
    "available_encoded = [col for col in encoded_categorical_cols if col in final_dataset.columns]\n",
    "\n",
    "modeling_features = available_numerical + available_encoded\n",
    "\n",
    "print(f\"Selected {len(modeling_features)} features for modeling:\")\n",
    "print(f\"- Numerical: {len(available_numerical)}\")\n",
    "print(f\"- Encoded categorical: {len(available_encoded)}\")\n",
    "\n",
    "# Create final feature matrix\n",
    "feature_columns = modeling_features + target_col + id_cols\n",
    "final_features = final_dataset[feature_columns].copy()\n",
    "\n",
    "print(f\"\\nFinal feature matrix shape: {final_features.shape}\")"
   ]
  },
  {
   "cell_type": "code",
   "execution_count": 15,
   "id": "4031c0b0",
   "metadata": {},
   "outputs": [
    {
     "name": "stdout",
     "output_type": "stream",
     "text": [
      "✅ Saved engineered features to: ..\\data\\processed\n",
      "   - Full dataset: 272,514 records\n",
      "   - Train set: 253,322 records\n",
      "   - Test set: 19,192 records\n",
      "   - Features: 41 columns\n",
      "\n",
      "📊 Feature Engineering Summary:\n",
      "   - RFM features: 8\n",
      "   - Behavioral features: 12\n",
      "   - Team performance: 6\n",
      "   - Time/Tenure: 4\n",
      "   - Churn label: 1\n",
      "   - Total features: 41\n"
     ]
    }
   ],
   "source": [
    "# Save engineered dataset\n",
    "from pathlib import Path\n",
    "output_dir = Path(\"../data/processed\")\n",
    "output_dir.mkdir(parents=True, exist_ok=True)\n",
    "\n",
    "final_features.to_csv(output_dir / 'engineered_features.csv', index=False)\n",
    "\n",
    "# Save train/test splits\n",
    "train_features = train_data.copy()\n",
    "test_features = test_data.copy()\n",
    "\n",
    "train_features.to_csv(output_dir / 'train_features.csv', index=False)\n",
    "test_features.to_csv(output_dir / 'test_features.csv', index=False)\n",
    "\n",
    "print(f\"✅ Saved engineered features to: {output_dir}\")\n",
    "print(f\"   - Full dataset: {len(final_features):,} records\")\n",
    "print(f\"   - Train set: {len(train_features):,} records\")\n",
    "print(f\"   - Test set: {len(test_features):,} records\")\n",
    "print(f\"   - Features: {final_features.shape[1]:,} columns\")\n",
    "\n",
    "# Print feature summary\n",
    "print(f\"\\n📊 Feature Engineering Summary:\")\n",
    "print(f\"   - RFM features: 8\")\n",
    "print(f\"   - Behavioral features: 12\")\n",
    "print(f\"   - Team performance: 6\") \n",
    "print(f\"   - Time/Tenure: 4\")\n",
    "print(f\"   - Churn label: 1\")\n",
    "print(f\"   - Total features: {final_features.shape[1]}\")"
   ]
  },
  {
   "cell_type": "markdown",
   "id": "3f54ff60",
   "metadata": {},
   "source": [
    "## 10. Feature Analysis and Visualization"
   ]
  },
  {
   "cell_type": "code",
   "execution_count": 16,
   "id": "4f2e3302",
   "metadata": {},
   "outputs": [
    {
     "data": {
      "image/png": "[encoded data removed]",
      "text/plain": [
       "<Figure size 1200x800 with 1 Axes>"
      ]
     },
     "metadata": {},
     "output_type": "display_data"
    },
    {
     "name": "stdout",
     "output_type": "stream",
     "text": [
      "Top 10 features by correlation with churn:\n",
      " 1. app_logins_3m_avg: 0.200\n",
      " 2. minutes_watched_3m_avg: 0.182\n",
      " 3. app_logins: 0.174\n",
      " 4. promo_exposure_3m_avg: 0.151\n",
      " 5. minutes_watched: 0.143\n",
      " 6. promo_exposure: 0.127\n",
      " 7. merch_spend_3m_avg: 0.120\n",
      " 8. plan_tier_encoded: 0.113\n",
      " 9. engagement_per_dollar: 0.110\n",
      "10. monthly_revenue: 0.102\n"
     ]
    }
   ],
   "source": [
    "# Feature importance analysis (correlation with target)\n",
    "feature_correlations = final_features[modeling_features + ['churn_label']].corr()['churn_label'].abs().sort_values(ascending=False)\n",
    "\n",
    "# Plot top features by correlation with churn\n",
    "plt.figure(figsize=(12, 8))\n",
    "top_features = feature_correlations.head(20).drop('churn_label')\n",
    "plt.barh(range(len(top_features)), top_features.values)\n",
    "plt.yticks(range(len(top_features)), top_features.index)\n",
    "plt.xlabel('Absolute Correlation with Churn')\n",
    "plt.title('Top 20 Features by Correlation with Churn Label')\n",
    "plt.tight_layout()\n",
    "plt.show()\n",
    "\n",
    "print(\"Top 10 features by correlation with churn:\")\n",
    "for i, (feature, corr) in enumerate(top_features.head(10).items(), 1):\n",
    "    print(f\"{i:2d}. {feature}: {corr:.3f}\")"
   ]
  },
  {
   "cell_type": "code",
   "execution_count": 37,
   "id": "1e0b2ac1",
   "metadata": {},
   "outputs": [
    {
     "data": {
      "image/png": "[encoded data removed]",
      "text/plain": [
       "<Figure size 1800x1000 with 6 Axes>"
      ]
     },
     "metadata": {},
     "output_type": "display_data"
    }
   ],
   "source": [
    "# Feature distribution analysis\n",
    "fig, axes = plt.subplots(2, 3, figsize=(18, 10))\n",
    "axes = axes.ravel()\n",
    "\n",
    "# Plot distributions of top features by churn status\n",
    "top_6_features = feature_correlations.head(7).drop('churn_label').index[:6]\n",
    "\n",
    "for i, feature in enumerate(top_6_features):\n",
    "    churned = final_features[final_features['churn_label'] == 1][feature]\n",
    "    not_churned = final_features[final_features['churn_label'] == 0][feature]\n",
    "    \n",
    "    axes[i].hist(not_churned, alpha=0.7, label='No Churn', bins=30, density=True)\n",
    "    axes[i].hist(churned, alpha=0.7, label='Churn', bins=10, density=True)\n",
    "    axes[i].set_title(f'{feature}')\n",
    "    axes[i].legend()\n",
    "    axes[i].set_ylabel('Density')\n",
    "\n",
    "plt.tight_layout()\n",
    "plt.show()"
   ]
  },
  {
   "cell_type": "markdown",
   "id": "16b1f3d5",
   "metadata": {},
   "source": [
    "## Summary\n",
    "\n",
    "This feature engineering notebook has created a comprehensive dataset for churn prediction with:\n",
    "\n",
    "### Feature Categories:\n",
    "1. **RFM Features**: Recency, Frequency, Monetary value metrics\n",
    "2. **Tenure Features**: Customer lifecycle and subscription metrics\n",
    "3. **Behavioral Features**: Rolling averages, trends, and consistency metrics\n",
    "4. **Team Performance**: Win rates, point differentials, and relative performance\n",
    "5. **Derived Features**: Engagement ratios and interaction features\n",
    "\n",
    "### Dataset Splits:\n",
    "- **Training**: Historical data for model training\n",
    "- **Validation**: Recent data for hyperparameter tuning\n",
    "- **Test**: Most recent data for final evaluation\n",
    "\n",
    "### Key Insights:\n",
    "- Clear correlation patterns between engagement metrics and churn\n",
    "- Time-based features capture customer lifecycle dynamics\n",
    "- Team performance integration adds external factors\n",
    "\n",
    "The dataset is now ready for churn modeling, survival analysis, and CLV estimation in the subsequent notebooks."
   ]
  }
 ],
 "metadata": {
  "kernelspec": {
   "display_name": "Python 3",
   "language": "python",
   "name": "python3"
  },
  "language_info": {
   "codemirror_mode": {
    "name": "ipython",
    "version": 3
   },
   "file_extension": ".py",
   "mimetype": "text/x-python",
   "name": "python",
   "nbconvert_exporter": "python",
   "pygments_lexer": "ipython3",
   "version": "3.11.0"
  }
 },
 "nbformat": 4,
 "nbformat_minor": 5
}
